{
 "metadata": {
  "language_info": {
   "codemirror_mode": {
    "name": "ipython",
    "version": 3
   },
   "file_extension": ".py",
   "mimetype": "text/x-python",
   "name": "python",
   "nbconvert_exporter": "python",
   "pygments_lexer": "ipython3",
   "version": "3.7.3-final"
  },
  "orig_nbformat": 2,
  "kernelspec": {
   "name": "python37364bitbaseconda6d27900fd3124888b69a6d87ba074609",
   "display_name": "Python 3.7.3 64-bit ('base': conda)"
  }
 },
 "nbformat": 4,
 "nbformat_minor": 2,
 "cells": [
  {
   "source": [
    "The file is a more in-depth look at decision trees and how they work. I am using the dataset from scikit!\n",
    "\n",
    "> Link to the video\n",
    "> https://www.youtube.com/watch?v=tNa99PG8hR8\n",
    "\n",
    "> For the graph I used pydot\n",
    "--- \n",
    "\n",
    "## f(x)      =     y\n",
    "- **Features** = f(x)\n",
    "\n",
    "- **Label**  =  y\n",
    "\n",
    "--- \n",
    "The goal is to make our own classifier\n",
    "```\n",
    "def classifier(features):\n",
    "    # do some logic \n",
    "    return label\n",
    "```\n",
    "\n",
    "- **Model:** Prototype or rules that governs our classifier function. Random classifier at first then learning through training. *Try with Tensorflow playground!\n",
    " http://goo.gl/cv7Dq5*"
   ],
   "cell_type": "markdown",
   "metadata": {}
  },
  {
   "cell_type": "code",
   "execution_count": 120,
   "metadata": {},
   "outputs": [],
   "source": [
    "from sklearn import datasets\n",
    "from sklearn.model_selection import train_test_split\n",
    "# from sklearn.cross_validation import train_test_split\n"
   ]
  },
  {
   "cell_type": "code",
   "execution_count": 121,
   "metadata": {},
   "outputs": [],
   "source": [
    "iris = datasets.load_iris()"
   ]
  },
  {
   "cell_type": "code",
   "execution_count": 122,
   "metadata": {},
   "outputs": [],
   "source": [
    "X = iris.data\n",
    "y = iris.target\n",
    "\n",
    "\n",
    "\"\"\"\n",
    "    We are using train_test_split to make our lives of splitting data easier :')\n",
    "    Here test_size is .5 = %50 of the data\n",
    "    The function gives us back datasets that we will store in..\n",
    "\n",
    "        X_train : Label Training set\n",
    "        X_test :  Label Testing set\n",
    "        y_train : Feature Training set\n",
    "        y_test :  Feature Testing set\n",
    "\"\"\"\n",
    "X_train, X_test, y_train, y_test = train_test_split(X, y, test_size=.5)\n"
   ]
  },
  {
   "cell_type": "code",
   "execution_count": 123,
   "metadata": {},
   "outputs": [
    {
     "output_type": "stream",
     "name": "stdout",
     "text": [
      "[0 2 0 1 2 0 2 1 0 0 2 0 0 1 0 1 2 2 2 0 0 0 0 2 0 1 2 0 2 0 2 1 2 1 2 1 0\n 1 0 1 0 0 0 2 1 2 0 0 0 2 1 0 0 2 1 2 1 1 1 0 0 2 2 0 1 1 0 1 2 1 2 2 0 1\n 2]\n"
     ]
    }
   ],
   "source": [
    "# Training with 50% of data\n",
    "# Method : Decision tree\n",
    "from sklearn import tree\n",
    "\n",
    "clf1 = tree.DecisionTreeClassifier()\n",
    "clf1.fit(X_train,y_train)\n",
    "\n",
    "pred1 = clf1.predict(X_test)\n",
    "print(pred1)\n",
    "# for row in pred1:\n",
    "#     print(row)"
   ]
  },
  {
   "cell_type": "code",
   "execution_count": 124,
   "metadata": {},
   "outputs": [
    {
     "output_type": "stream",
     "name": "stdout",
     "text": [
      "0.9733333333333334\n"
     ]
    }
   ],
   "source": [
    "# Comparing the accuracy from the predictive labels to the real labels\n",
    "from sklearn.metrics import accuracy_score\n",
    "\n",
    "print(accuracy_score(y_test,pred1))"
   ]
  },
  {
   "cell_type": "code",
   "execution_count": 125,
   "metadata": {},
   "outputs": [
    {
     "output_type": "stream",
     "name": "stdout",
     "text": [
      "[0 1 0 1 1 0 2 1 0 0 2 0 0 1 0 1 2 2 2 0 0 0 0 2 0 1 2 0 2 0 1 1 1 1 2 1 0\n 1 0 1 0 0 0 2 1 2 0 0 0 2 1 0 0 2 1 2 1 1 1 0 0 2 2 0 1 1 0 1 2 1 2 2 0 1\n 2]\n0.9466666666666667\n"
     ]
    }
   ],
   "source": [
    "from sklearn.neighbors import KNeighborsClassifier\n",
    "\n",
    "clf2 = KNeighborsClassifier() \n",
    "clf2.fit(X_train, y_train)\n",
    "pred2 = clf2.predict(X_test)\n",
    "\n",
    "print(pred2)\n",
    "# for row in pred1:\n",
    "#     print(row)\n",
    "\n",
    "# Comparing the accuracy from the predictive labels to the real labels using KNeighborsClassifier\n",
    "print(accuracy_score(y_test,pred2))"
   ]
  },
  {
   "source": [
    "### Here from the visual decision tree, we can see the steps that the tree took in order to determine the correct label. \n",
    "\n",
    "![title](iris_pipeline.png)"
   ],
   "cell_type": "markdown",
   "metadata": {}
  }
 ]
}