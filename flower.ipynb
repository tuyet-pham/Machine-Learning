{
 "metadata": {
  "language_info": {
   "codemirror_mode": {
    "name": "ipython",
    "version": 3
   },
   "file_extension": ".py",
   "mimetype": "text/x-python",
   "name": "python",
   "nbconvert_exporter": "python",
   "pygments_lexer": "ipython3",
   "version": "3.7.3-final"
  },
  "orig_nbformat": 2,
  "kernelspec": {
   "name": "python37364bitbaseconda6d27900fd3124888b69a6d87ba074609",
   "display_name": "Python 3.7.3 64-bit ('base': conda)"
  }
 },
 "nbformat": 4,
 "nbformat_minor": 2,
 "cells": [
  {
   "source": [
    "\n",
    "The file is a more in-depth look at decision trees and how they work. I am using the         dataset from scikit! \n",
    "\n",
    "\n",
    "> Link to the video <br>\n",
    "> https://www.youtube.com/watch?v=tNa99PG8hR8\n",
    "\n",
    "> For the graph I used pydot"
   ],
   "cell_type": "markdown",
   "metadata": {}
  },
  {
   "source": [
    "! pip3 install pydot\n",
    "\n",
    "! pip3 install scikit-learn"
   ],
   "cell_type": "markdown",
   "metadata": {}
  },
  {
   "cell_type": "code",
   "execution_count": 9,
   "metadata": {},
   "outputs": [],
   "source": [
    "from sklearn.datasets import load_iris\n",
    "import numpy as np\n",
    "from sklearn import tree\n",
    "# from sklearn.externals.six import StringIO\n",
    "# import pydot "
   ]
  },
  {
   "cell_type": "code",
   "execution_count": 11,
   "metadata": {},
   "outputs": [],
   "source": [
    "iris = load_iris()"
   ]
  },
  {
   "cell_type": "code",
   "execution_count": 12,
   "metadata": {},
   "outputs": [
    {
     "output_type": "stream",
     "name": "stdout",
     "text": [
      "['sepal length (cm)', 'sepal width (cm)', 'petal length (cm)', 'petal width (cm)']\n[5.1 3.5 1.4 0.2]\n['setosa' 'versicolor' 'virginica']\n1\n"
     ]
    }
   ],
   "source": [
    "\"\"\"\n",
    "    feature_names : describe what features per flower\n",
    "    data[0] : the value of the feature for flower at index 0\n",
    "\"\"\"\n",
    "print(iris.feature_names)\n",
    "print(iris.data[0])\n",
    "\n",
    "\n",
    "\"\"\"\n",
    "    target_names : showcases some name from the dataset\n",
    "    target[0] : the name of the flower at index 0 - The LABEL\n",
    "\"\"\"\n",
    "print(iris.target_names)\n",
    "print(iris.target[60])\n",
    "\n"
   ]
  },
  {
   "cell_type": "code",
   "execution_count": 13,
   "metadata": {},
   "outputs": [
    {
     "output_type": "stream",
     "name": "stdout",
     "text": [
      "Label\t ['sepal length (cm)', 'sepal width (cm)', 'petal length (cm)', 'petal width (cm)']\n",
      "====================================================================================================\n",
      "setosa \t [5.1 3.5 1.4 0.2]\n",
      "setosa \t [4.9 3.  1.4 0.2]\n",
      "setosa \t [4.7 3.2 1.3 0.2]\n",
      "setosa \t [4.6 3.1 1.5 0.2]\n",
      "setosa \t [5.  3.6 1.4 0.2]\n",
      "setosa \t [5.4 3.9 1.7 0.4]\n",
      "setosa \t [4.6 3.4 1.4 0.3]\n",
      "setosa \t [5.  3.4 1.5 0.2]\n",
      "setosa \t [4.4 2.9 1.4 0.2]\n",
      "setosa \t [4.9 3.1 1.5 0.1]\n",
      "setosa \t [5.4 3.7 1.5 0.2]\n",
      "setosa \t [4.8 3.4 1.6 0.2]\n",
      "setosa \t [4.8 3.  1.4 0.1]\n",
      "setosa \t [4.3 3.  1.1 0.1]\n",
      "setosa \t [5.8 4.  1.2 0.2]\n",
      "setosa \t [5.7 4.4 1.5 0.4]\n",
      "setosa \t [5.4 3.9 1.3 0.4]\n",
      "setosa \t [5.1 3.5 1.4 0.3]\n",
      "setosa \t [5.7 3.8 1.7 0.3]\n",
      "setosa \t [5.1 3.8 1.5 0.3]\n",
      "setosa \t [5.4 3.4 1.7 0.2]\n",
      "setosa \t [5.1 3.7 1.5 0.4]\n",
      "setosa \t [4.6 3.6 1.  0.2]\n",
      "setosa \t [5.1 3.3 1.7 0.5]\n",
      "setosa \t [4.8 3.4 1.9 0.2]\n",
      "setosa \t [5.  3.  1.6 0.2]\n",
      "setosa \t [5.  3.4 1.6 0.4]\n",
      "setosa \t [5.2 3.5 1.5 0.2]\n",
      "setosa \t [5.2 3.4 1.4 0.2]\n",
      "setosa \t [4.7 3.2 1.6 0.2]\n",
      "setosa \t [4.8 3.1 1.6 0.2]\n",
      "setosa \t [5.4 3.4 1.5 0.4]\n",
      "setosa \t [5.2 4.1 1.5 0.1]\n",
      "setosa \t [5.5 4.2 1.4 0.2]\n",
      "setosa \t [4.9 3.1 1.5 0.2]\n",
      "setosa \t [5.  3.2 1.2 0.2]\n",
      "setosa \t [5.5 3.5 1.3 0.2]\n",
      "setosa \t [4.9 3.6 1.4 0.1]\n",
      "setosa \t [4.4 3.  1.3 0.2]\n",
      "setosa \t [5.1 3.4 1.5 0.2]\n",
      "setosa \t [5.  3.5 1.3 0.3]\n",
      "setosa \t [4.5 2.3 1.3 0.3]\n",
      "setosa \t [4.4 3.2 1.3 0.2]\n",
      "setosa \t [5.  3.5 1.6 0.6]\n",
      "setosa \t [5.1 3.8 1.9 0.4]\n",
      "setosa \t [4.8 3.  1.4 0.3]\n",
      "setosa \t [5.1 3.8 1.6 0.2]\n",
      "setosa \t [4.6 3.2 1.4 0.2]\n",
      "setosa \t [5.3 3.7 1.5 0.2]\n",
      "setosa \t [5.  3.3 1.4 0.2]\n",
      "versicolor \t [7.  3.2 4.7 1.4]\n",
      "versicolor \t [6.4 3.2 4.5 1.5]\n",
      "versicolor \t [6.9 3.1 4.9 1.5]\n",
      "versicolor \t [5.5 2.3 4.  1.3]\n",
      "versicolor \t [6.5 2.8 4.6 1.5]\n",
      "versicolor \t [5.7 2.8 4.5 1.3]\n",
      "versicolor \t [6.3 3.3 4.7 1.6]\n",
      "versicolor \t [4.9 2.4 3.3 1. ]\n",
      "versicolor \t [6.6 2.9 4.6 1.3]\n",
      "versicolor \t [5.2 2.7 3.9 1.4]\n",
      "versicolor \t [5.  2.  3.5 1. ]\n",
      "versicolor \t [5.9 3.  4.2 1.5]\n",
      "versicolor \t [6.  2.2 4.  1. ]\n",
      "versicolor \t [6.1 2.9 4.7 1.4]\n",
      "versicolor \t [5.6 2.9 3.6 1.3]\n",
      "versicolor \t [6.7 3.1 4.4 1.4]\n",
      "versicolor \t [5.6 3.  4.5 1.5]\n",
      "versicolor \t [5.8 2.7 4.1 1. ]\n",
      "versicolor \t [6.2 2.2 4.5 1.5]\n",
      "versicolor \t [5.6 2.5 3.9 1.1]\n",
      "versicolor \t [5.9 3.2 4.8 1.8]\n",
      "versicolor \t [6.1 2.8 4.  1.3]\n",
      "versicolor \t [6.3 2.5 4.9 1.5]\n",
      "versicolor \t [6.1 2.8 4.7 1.2]\n",
      "versicolor \t [6.4 2.9 4.3 1.3]\n",
      "versicolor \t [6.6 3.  4.4 1.4]\n",
      "versicolor \t [6.8 2.8 4.8 1.4]\n",
      "versicolor \t [6.7 3.  5.  1.7]\n",
      "versicolor \t [6.  2.9 4.5 1.5]\n",
      "versicolor \t [5.7 2.6 3.5 1. ]\n",
      "versicolor \t [5.5 2.4 3.8 1.1]\n",
      "versicolor \t [5.5 2.4 3.7 1. ]\n",
      "versicolor \t [5.8 2.7 3.9 1.2]\n",
      "versicolor \t [6.  2.7 5.1 1.6]\n",
      "versicolor \t [5.4 3.  4.5 1.5]\n",
      "versicolor \t [6.  3.4 4.5 1.6]\n",
      "versicolor \t [6.7 3.1 4.7 1.5]\n",
      "versicolor \t [6.3 2.3 4.4 1.3]\n",
      "versicolor \t [5.6 3.  4.1 1.3]\n",
      "versicolor \t [5.5 2.5 4.  1.3]\n",
      "versicolor \t [5.5 2.6 4.4 1.2]\n",
      "versicolor \t [6.1 3.  4.6 1.4]\n",
      "versicolor \t [5.8 2.6 4.  1.2]\n",
      "versicolor \t [5.  2.3 3.3 1. ]\n",
      "versicolor \t [5.6 2.7 4.2 1.3]\n",
      "versicolor \t [5.7 3.  4.2 1.2]\n",
      "versicolor \t [5.7 2.9 4.2 1.3]\n",
      "versicolor \t [6.2 2.9 4.3 1.3]\n",
      "versicolor \t [5.1 2.5 3.  1.1]\n",
      "versicolor \t [5.7 2.8 4.1 1.3]\n",
      "virginica \t [6.3 3.3 6.  2.5]\n",
      "virginica \t [5.8 2.7 5.1 1.9]\n",
      "virginica \t [7.1 3.  5.9 2.1]\n",
      "virginica \t [6.3 2.9 5.6 1.8]\n",
      "virginica \t [6.5 3.  5.8 2.2]\n",
      "virginica \t [7.6 3.  6.6 2.1]\n",
      "virginica \t [4.9 2.5 4.5 1.7]\n",
      "virginica \t [7.3 2.9 6.3 1.8]\n",
      "virginica \t [6.7 2.5 5.8 1.8]\n",
      "virginica \t [7.2 3.6 6.1 2.5]\n",
      "virginica \t [6.5 3.2 5.1 2. ]\n",
      "virginica \t [6.4 2.7 5.3 1.9]\n",
      "virginica \t [6.8 3.  5.5 2.1]\n",
      "virginica \t [5.7 2.5 5.  2. ]\n",
      "virginica \t [5.8 2.8 5.1 2.4]\n",
      "virginica \t [6.4 3.2 5.3 2.3]\n",
      "virginica \t [6.5 3.  5.5 1.8]\n",
      "virginica \t [7.7 3.8 6.7 2.2]\n",
      "virginica \t [7.7 2.6 6.9 2.3]\n",
      "virginica \t [6.  2.2 5.  1.5]\n",
      "virginica \t [6.9 3.2 5.7 2.3]\n",
      "virginica \t [5.6 2.8 4.9 2. ]\n",
      "virginica \t [7.7 2.8 6.7 2. ]\n",
      "virginica \t [6.3 2.7 4.9 1.8]\n",
      "virginica \t [6.7 3.3 5.7 2.1]\n",
      "virginica \t [7.2 3.2 6.  1.8]\n",
      "virginica \t [6.2 2.8 4.8 1.8]\n",
      "virginica \t [6.1 3.  4.9 1.8]\n",
      "virginica \t [6.4 2.8 5.6 2.1]\n",
      "virginica \t [7.2 3.  5.8 1.6]\n",
      "virginica \t [7.4 2.8 6.1 1.9]\n",
      "virginica \t [7.9 3.8 6.4 2. ]\n",
      "virginica \t [6.4 2.8 5.6 2.2]\n",
      "virginica \t [6.3 2.8 5.1 1.5]\n",
      "virginica \t [6.1 2.6 5.6 1.4]\n",
      "virginica \t [7.7 3.  6.1 2.3]\n",
      "virginica \t [6.3 3.4 5.6 2.4]\n",
      "virginica \t [6.4 3.1 5.5 1.8]\n",
      "virginica \t [6.  3.  4.8 1.8]\n",
      "virginica \t [6.9 3.1 5.4 2.1]\n",
      "virginica \t [6.7 3.1 5.6 2.4]\n",
      "virginica \t [6.9 3.1 5.1 2.3]\n",
      "virginica \t [5.8 2.7 5.1 1.9]\n",
      "virginica \t [6.8 3.2 5.9 2.3]\n",
      "virginica \t [6.7 3.3 5.7 2.5]\n",
      "virginica \t [6.7 3.  5.2 2.3]\n",
      "virginica \t [6.3 2.5 5.  1.9]\n",
      "virginica \t [6.5 3.  5.2 2. ]\n",
      "virginica \t [6.2 3.4 5.4 2.3]\n",
      "virginica \t [5.9 3.  5.1 1.8]\n"
     ]
    }
   ],
   "source": [
    "# Looking at all the data\n",
    "print(\"Label\\t\", iris.feature_names)\n",
    "print(\"====================================================================================================\")\n",
    "\n",
    "for i in range(len(iris.target)):\n",
    "    if iris.target[i] == 0: \n",
    "        print(\"setosa \\t\", iris.data[i])\n",
    "    elif iris.target[i] == 1:\n",
    "        print(\"versicolor \\t\", iris.data[i])\n",
    "    else:\n",
    "        print(\"virginica \\t\", iris.data[i])\n"
   ]
  },
  {
   "cell_type": "code",
   "execution_count": 14,
   "metadata": {},
   "outputs": [
    {
     "output_type": "stream",
     "name": "stdout",
     "text": [
      "My testing targets \n [0 1 2]\n\nMy testing feature data \n [[5.1 3.5 1.4 0.2]\n [7.  3.2 4.7 1.4]\n [6.3 3.3 6.  2.5]]\n"
     ]
    },
    {
     "output_type": "execute_result",
     "data": {
      "text/plain": [
       "3"
      ]
     },
     "metadata": {},
     "execution_count": 14
    }
   ],
   "source": [
    "# Splitting up the dataset! IMPORTANT\n",
    "\n",
    "# A list that holds the index of obj to remove.\n",
    "test_idx = [0,50,100]\n",
    "\n",
    "\"\"\"\n",
    "Training data: \n",
    "\n",
    "Here I am removing 3 items from the target (label) and feature dataset at a very specific index.\n",
    "    1. I will take the 3 removed and use them as my testing data. \n",
    "    2. I will take the rest as training data.\n",
    "\n",
    "\"\"\"\n",
    "\n",
    "# Removing the index 0, 50, & 100 from the target dataset & feature dataset\n",
    "train_label = np.delete(iris.target, test_idx)\n",
    "train_feature_data = np.delete(iris.data, test_idx, axis=0)\n",
    "\n",
    "\n",
    "# Creating the testing list with the 3 obj removed from the dataset.\n",
    "test_label = iris.target[test_idx]\n",
    "test_feature_data = iris.data[test_idx]\n",
    "\n",
    "\n",
    "\n",
    "print(\"My testing targets \\n\", test_label)\n",
    "print(\"\\nMy testing feature data \\n\", test_feature_data)\n",
    "len(test_feature_data)\n"
   ]
  },
  {
   "cell_type": "code",
   "execution_count": 15,
   "metadata": {},
   "outputs": [
    {
     "output_type": "stream",
     "name": "stdout",
     "text": [
      "setosa\nversicolor\nvirginica\n"
     ]
    }
   ],
   "source": [
    "# Creating my tree\n",
    "clf = tree.DecisionTreeClassifier()\n",
    "\n",
    "# Using the training sets\n",
    "clf = clf.fit(train_feature_data, train_label)\n",
    "\n",
    "\n",
    "# Here I am predicting the flowers using the test features from the list 'test_feature_data'\n",
    "pred = clf.predict(test_feature_data)\n",
    "\n",
    "\n",
    "# Printing out the retrun of the predict function. adding the label here manually.\n",
    "for label in pred:\n",
    "    if label == 0: \n",
    "        print(\"setosa\")\n",
    "    elif label == 1:\n",
    "        print(\"versicolor\")\n",
    "    else:\n",
    "        print(\"virginica\")"
   ]
  },
  {
   "cell_type": "code",
   "execution_count": 16,
   "metadata": {},
   "outputs": [],
   "source": [
    "# conda is having a tough time install pydot, for now running it in the terminal seems to work, not in vscode.\n",
    "\n",
    "# dot_data = StringIO()\n",
    "# tree.export_graphviz(clf,\n",
    "#                         out_file=dot_data,\n",
    "#                         feature_names=iris.feature_names,\n",
    "#                         class_names=iris.target_names,\n",
    "#                         filled=True, rounded=True,\n",
    "#                         impurity=False)\n",
    "# graph = pydot.graph_from_dot_data(dot_data.getvalue())\n",
    "# graph[0].write_pdf(\"iris.pdf\") "
   ]
  },
  {
   "cell_type": "code",
   "execution_count": 19,
   "metadata": {},
   "outputs": [
    {
     "output_type": "stream",
     "name": "stdout",
     "text": [
      "[5.1 3.5 1.4 0.2] 0\n"
     ]
    }
   ],
   "source": [
    "print(test_feature_data[0], test_label[0])\n",
    "print(iris.target_names,\"\\n\",iris.feature_names)"
   ]
  },
  {
   "cell_type": "code",
   "execution_count": null,
   "metadata": {},
   "outputs": [],
   "source": []
  }
 ]
}