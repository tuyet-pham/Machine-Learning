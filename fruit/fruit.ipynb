{
 "metadata": {
  "language_info": {
   "codemirror_mode": {
    "name": "ipython",
    "version": 3
   },
   "file_extension": ".py",
   "mimetype": "text/x-python",
   "name": "python",
   "nbconvert_exporter": "python",
   "pygments_lexer": "ipython3",
   "version": "3.7.3-final"
  },
  "orig_nbformat": 2,
  "kernelspec": {
   "name": "python37364bitbaseconda6d27900fd3124888b69a6d87ba074609",
   "display_name": "Python 3.7.3 64-bit ('base': conda)"
  }
 },
 "nbformat": 4,
 "nbformat_minor": 2,
 "cells": [
  {
   "source": [
    "from sklearn import tree"
   ],
   "cell_type": "code",
   "metadata": {},
   "execution_count": 2,
   "outputs": []
  },
  {
   "cell_type": "code",
   "execution_count": 4,
   "metadata": {},
   "outputs": [],
   "source": [
    "\n",
    "\"\"\"\n",
    "Fruit   |  Weight    |   Texture\n",
    "apple       140          smooth\n",
    "apple       130          smooth\n",
    "orange      150          bumpy\n",
    "orange      170          bumpy\n",
    "\"\"\"\n",
    "\n",
    "# smooth - 1 \n",
    "# bumpy = 0\n",
    "features = [[140, 1],[130, 1],[150,0],[170, 0]]\n",
    "\n",
    "# Apples = 0 \n",
    "# Orange = 1\n",
    "labels = [0,0,1,1]\n"
   ]
  },
  {
   "source": [
    "# Empty classifier\n",
    "clf = tree.DecisionTreeClassifier()"
   ],
   "cell_type": "code",
   "metadata": {},
   "execution_count": 6,
   "outputs": []
  },
  {
   "cell_type": "code",
   "execution_count": 8,
   "metadata": {},
   "outputs": [],
   "source": [
    "# Separating features\n",
    "clf = clf.fit(features, labels)"
   ]
  },
  {
   "cell_type": "code",
   "execution_count": 10,
   "metadata": {},
   "outputs": [
    {
     "output_type": "stream",
     "name": "stdout",
     "text": [
      "[0]\n"
     ]
    }
   ],
   "source": [
    "# 0 if apple 1 if orange\n",
    "print(clf.predict([[140,0]]))"
   ]
  }
 ]
}